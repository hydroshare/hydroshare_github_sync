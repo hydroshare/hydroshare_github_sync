{
 "cells": [
  {
   "cell_type": "markdown",
   "id": "d6162592-e9fa-4cee-8400-f3acbd5e053c",
   "metadata": {
    "tags": []
   },
   "source": [
    "# Notebook to visualize SWOT longitudinal profile data, and modify vertical datum and units\n",
    "\n",
    "The SWOT satellite measures water surface elevation, width and slope. It was launched in December 2022. It sees nearly all global rivers and lakes. For higher-latitude locations such as Alaska, observations are usually 3 or 4 times per 21 day cycle.\n",
    "\n",
    "<img src=\"SWOT-Mission-Surface-Water-Ocean-Topography.jpg\" alt=\"SWOT\" width=\"500\"/>\n",
    "\n",
    "Key documents: https://podaac.jpl.nasa.gov/SWOT\n",
    "\n",
    "This notebook was written by Mike Durand (durand.8@osu.edu), with contributions from Bidhya Yadav, Ohio State University. It was presented April 23, 2025."
   ]
  },
  {
   "cell_type": "markdown",
   "id": "4f71990d-ced0-499c-94ed-d001bcb88655",
   "metadata": {},
   "source": [
    "This notebook will first present a little bit of background on SWOT data. Then we'll use SWOT data for a river reach you can select using this notebook. We'll pull data from NASA servers, and visualize the timeseries of river elevations at one reach on a river you choose. Then we'll look at the longitudinal profile of water elevations for that reach.\n",
    "\n",
    "One note on using Jupyter notebooks: you can basically follow along with the presentation by pushing \"Shift+Enter\" when each cell is highlighted.  \n",
    "* The blue bar on the left shows you which cell is highlighted \n",
    "* Many cells are just displaying information and graphics, while other cells are Python code\n",
    "* Careful! If you run a cell with Python code more than once, it will repeat the code (which may apply an offset you only want to apply once, or run an operation that will take a litlte while, e.g.)\n",
    "\n",
    "One final note: we are running today on CUAHSI's cloud computing resources: https://www.hydroshare.org/group/156. This lets us all work together in a shared environment, and gives anyone access to the tools we need for the workshop."
   ]
  },
  {
   "cell_type": "markdown",
   "id": "264f5b72-aa70-43e8-b307-72e03d9910ce",
   "metadata": {
    "tags": []
   },
   "source": [
    "## Background on SWOT and its data products\n",
    "\n",
    "There is a lot to know about data products, and we cannot cover all of it here. Please see this 15 minute video by Tamlin Pavelsky (UNC), the US Hydrology lead for SWOT, for a more detailed look: https://podaac.jpl.nasa.gov/animations/Hydrology-Data-Products-from-the-SWOT-Mission. \n",
    "\n",
    "From that video, here well cover just two data product types, both of which are in the \"River Single Pass\" dataset described in the video, and are described at the \"Key documents\" link, above. Specifically in this workshop we'll just look at rivers and nodes. But first, we'll take a brief look at one level lower, the pixel cloud."
   ]
  },
  {
   "cell_type": "markdown",
   "id": "a2361fc0-4b3e-4df3-a313-04695d0199ac",
   "metadata": {},
   "source": [
    "### SWOT pixel cloud\n",
    "\n",
    "The primary instrument on SWOT is the Ka-band radar interferometer KaRIN. As an interferometric SAR, SWOT measures radar backscatter intensity, phase, and coherence. These low-level quantities are processed into water surface elevation, mapped on an irregular grid, which we call the pixel cloud:\n",
    "\n",
    "<img src=\"PixelCloud.png\" alt=\"SWOT PixC\" width=\"750\"/>\n"
   ]
  },
  {
   "cell_type": "markdown",
   "id": "2b790082-0569-447c-87cf-570a079ac070",
   "metadata": {},
   "source": [
    "### SWOT river data products: nodes and reaches\n",
    "\n",
    "The pixel cloudmeasurements are then mapped to river nodes, which are locations along river centerlines located every ~200 m along rivers. There are on the order of 7.5 million nodes on global river.\n",
    "\n",
    "<img src=\"Nodes-and-reaches.png\" alt=\"SWOT PixC\" width=\"750\"/>\n",
    "\n",
    "River products are aggregated again from nodes to river reaches, which are approximately 10 km in length. There are on the order of 150,000 reaches on global rivers."
   ]
  },
  {
   "cell_type": "markdown",
   "id": "db569984-4c4c-4053-86a4-9dad2e09ab3a",
   "metadata": {},
   "source": [
    "## Objectives:\n",
    "\n",
    "The workflow in the notebook contains cells that run Python code that do the following: \n",
    "1. Set up the compute environment by importing software packages\n",
    "2. Identifying the reachid you are interested in, by going to the \"SWORD Explorer\" website\n",
    "3. Enter the period of interest: plot a timeseries of SWOT elevations for a reach\n",
    "4. Convert the vertical datum from SWOT's native datum to a datum of your choice\n",
    "5. Pull a longitudinal profile of SWOT data for the reach and time of your choice\n",
    "6. Export data to csv, and download"
   ]
  },
  {
   "cell_type": "markdown",
   "id": "e49659b0-bdfa-4283-abbb-b9306380dd91",
   "metadata": {},
   "source": [
    "## 1 Set up environment\n",
    "\n",
    "The Python cells below need to be run each time the notebook is executed. The set up the needed libraries to run here in CUAHSI's Jupyter Hub cloud."
   ]
  },
  {
   "cell_type": "code",
   "execution_count": null,
   "id": "6cb5cd4c-564a-4237-907e-dce8a82da5d3",
   "metadata": {
    "tags": []
   },
   "outputs": [],
   "source": [
    "# We'll use the plotly library to show the data. other libraries are in the Utilities.py file\n",
    "import plotly.express as px"
   ]
  },
  {
   "cell_type": "code",
   "execution_count": null,
   "id": "b34ca65a-0db6-4f20-8491-ce7fc5ed5cea",
   "metadata": {
    "tags": []
   },
   "outputs": [],
   "source": [
    "# These two functions pull reach timeseris and long profiles respectively\n",
    "from Utilities import PullReachTimeseries, PullLongitudinalProfile, ChangeDatum"
   ]
  },
  {
   "cell_type": "markdown",
   "id": "442223ae-2e1d-41ee-b496-ab70bdc1e616",
   "metadata": {},
   "source": [
    "## 2 Find reach of interest\n",
    "\n",
    "To choose a reach to analyze, go to SWORD Explorer: https://www.swordexplorer.com\n",
    "\n",
    "To view Alaska, you must first click on the \"81\" basin. Then you should see a map that looks like this. Zoom in, and click on the reach you are interested in, and you'll see the reachid pop up.\n",
    "\n",
    "<img src=\"SWORD.png\" alt=\"SWORD\" width=\"500\"/>\n"
   ]
  },
  {
   "cell_type": "code",
   "execution_count": null,
   "id": "0e6faf0b-1790-42e0-9340-96d3c7ca40be",
   "metadata": {
    "tags": []
   },
   "outputs": [],
   "source": [
    "# Define reach\n",
    "reachid='81246000021' # this is the Nenana River at Nenana"
   ]
  },
  {
   "cell_type": "markdown",
   "id": "5d70cea2-d20c-4085-bb26-fe43722afbe9",
   "metadata": {},
   "source": [
    "## 3 Define time period of interest\n",
    "\n",
    "This will pull and show a timeseries of SWOT overpasses for a reach, by displaying a timeseries of water elevations.\n",
    "\n",
    "The command below uses a wonderful service called hydrochron which allows you to do API calls to query SWOT data. You can read about it here: https://www.earthdata.nasa.gov/news/hydrocron-new-tool-swot-time-series-analysis\n",
    "\n",
    "This operations takes a few seconds."
   ]
  },
  {
   "cell_type": "code",
   "execution_count": null,
   "id": "ca32a3a6-2423-44ea-95bd-c1ae136e60e6",
   "metadata": {
    "tags": []
   },
   "outputs": [],
   "source": [
    "# This command queries SWOT data using the Hydrochron service \n",
    "df=PullReachTimeseries(reachid)"
   ]
  },
  {
   "cell_type": "code",
   "execution_count": null,
   "id": "caa0bb88-79e1-459b-a596-5e9deda67d01",
   "metadata": {
    "tags": []
   },
   "outputs": [],
   "source": [
    "# Inspect downloaded data\n",
    "df.head()"
   ]
  },
  {
   "cell_type": "markdown",
   "id": "d58d9522-8c44-453b-ae3c-eaf9129addd9",
   "metadata": {},
   "source": [
    "This is the timeseries displayed as a dataframe using the powerful Pandas library (https://pandas.pydata.org). Basically it's similar to an Excel table that lets us manipulate and plot the data. \n",
    "\n",
    "For description of each field, see the \"Key documents\" link above. In particular, check out the Handbook, and the Product Description Document."
   ]
  },
  {
   "cell_type": "markdown",
   "id": "398b212c-d9c8-4ddd-81b7-d00c971ea75b",
   "metadata": {},
   "source": [
    "SWOT allows measurement of many quantities. An interesting one is slope."
   ]
  },
  {
   "cell_type": "code",
   "execution_count": null,
   "id": "61e6e1db-8b65-4582-bc44-b00093b72c11",
   "metadata": {
    "tags": []
   },
   "outputs": [],
   "source": [
    "# Plot swot slope as a timeseries \n",
    "px.line(df,x='time_str',y='slope',   # this line just tells which columns in the dataframe we want to plot\n",
    "       labels={\"time_str\": \"\",               # this one and the one below just provide the xlabel and ylabel\n",
    "               \"slope\": \"water surface slope: dimensionless \"},\n",
    "        markers=True)"
   ]
  },
  {
   "cell_type": "markdown",
   "id": "b5febc1d-1a1e-43d3-ad38-c462781eb4c2",
   "metadata": {
    "tags": []
   },
   "source": [
    "This data has been filtered to include quality flags 0 and 1 (good and suspect). You can read more about the various data quality flags in the \"Key documents\" link at the top of this notebook.\n",
    "* You should notice that some observations look a bit more suspect than others. \n",
    "* A more sophisticated filter might be able to remove datapoints such as on September 16, 2024, but this is shown here to remember to apply sanity checks at all times. SWOT is an experimental mission. \n",
    "\n"
   ]
  },
  {
   "cell_type": "markdown",
   "id": "6ddc47c1-8c63-4c34-9bc8-7ec84344aee8",
   "metadata": {
    "tags": []
   },
   "source": [
    "## 4 Convert WSE to NAVD88\n",
    "We will use NOAA vdatum api (https://vdatum.noaa.gov/docs/services.html) to estimate the offset between SWOT EGM08 and NAVD88 \n",
    "\n",
    "The call to the NOAA API takes a few seconds to run."
   ]
  },
  {
   "cell_type": "code",
   "execution_count": null,
   "id": "54f26ff7-df0a-4e60-a83f-a060f4597493",
   "metadata": {
    "tags": []
   },
   "outputs": [],
   "source": [
    "swot_offset, zout = ChangeDatum(df)  #retrieve offset value zout=zin+swot_offset\n",
    "df['wse_NAVD88'] = df['wse'] + swot_offset #  this offset is applied in units of meters\n",
    "df['wse_NAVD88_ft'] = df['wse_NAVD88']/0.3048 # convert meters to feet"
   ]
  },
  {
   "cell_type": "code",
   "execution_count": null,
   "id": "a2889546-3a78-43ee-b81e-2e48c2248f2d",
   "metadata": {
    "tags": []
   },
   "outputs": [],
   "source": [
    "# Plot swot data as a timeseries (feet)\n",
    "px.line(df,x='time_str',y='wse_NAVD88_ft',   # this line just tells which columns in the dataframe we want to plot\n",
    "       labels={\"time_str\": \"\",               # this one and the one below just provide the xlabel and ylabel\n",
    "               \"wse_NAVD88_ft\": \"water surface elevation: feet above NAVD88 \"},\n",
    "        markers=True)"
   ]
  },
  {
   "cell_type": "markdown",
   "id": "4b7abe87-eb7d-44ea-bdfc-60b5a817b43c",
   "metadata": {},
   "source": [
    "This data has been filtered to include quality flags 0 and 1 (good and suspect). You can read more about the various data quality flags in the \"Key documents\" link at the top of this notebook.\n",
    "* You should notice that some observations look a bit more suspect than others. \n",
    "* A more sophisticated filter might be able to remove datapoints such as on September 16, 2024, but this is shown here to remember to apply sanity checks at all times. SWOT is an experimental mission. \n",
    "* Notice too that I have not removed ice flagged data, but note that we are still learning what exactly SWOT sees when the water surface is frozen.\n",
    "* There was a processing update in October 2024, and data since then has looked a bit better. \n"
   ]
  },
  {
   "cell_type": "markdown",
   "id": "41d04249-4c9d-4e82-852a-24bec523f5df",
   "metadata": {},
   "source": [
    "Look at above plot and choose a day where there is data to analyze long profile.\n",
    "\n",
    "From above, I am interested in seeing the profile August 4. It does not look abnormal, and it is in an ice-free time. Let's also look at a lower water time, in October."
   ]
  },
  {
   "cell_type": "code",
   "execution_count": null,
   "id": "5438256e-584e-4106-8102-4d5a61f081a2",
   "metadata": {
    "tags": []
   },
   "outputs": [],
   "source": [
    "# Save the day as one or two different times [yyyy-mm-dd,yyyy-mm-dd]. \n",
    "tlongs=['2024-08-04','2024-10-27'] # note - this can only be a series of one or two times"
   ]
  },
  {
   "cell_type": "markdown",
   "id": "adae9272-3176-45a7-ab6a-6a3382044451",
   "metadata": {},
   "source": [
    "Notebook cells below will pull a long profile for this day"
   ]
  },
  {
   "cell_type": "markdown",
   "id": "7ce3e4ec-3da1-4ce2-aaa4-d5b29d65862c",
   "metadata": {
    "tags": []
   },
   "source": [
    "## 5. Pull longitudinal profile"
   ]
  },
  {
   "cell_type": "code",
   "execution_count": null,
   "id": "92fae007-2e9d-4675-8961-c169608ab976",
   "metadata": {
    "tags": []
   },
   "outputs": [],
   "source": [
    "%load_ext autoreload\n",
    "%autoreload 2"
   ]
  },
  {
   "cell_type": "code",
   "execution_count": null,
   "id": "206c0260-d92b-4c31-8f96-f0988b9b11ce",
   "metadata": {
    "tags": []
   },
   "outputs": [],
   "source": [
    "# This command retrieves SWOT data for times listed above (just the first and last in the list)\n",
    "longdf=PullLongitudinalProfile(reachid,tlongs)"
   ]
  },
  {
   "cell_type": "code",
   "execution_count": null,
   "id": "bf5ae3e8-fbd3-4f59-a103-8c03b1b42d16",
   "metadata": {
    "tags": []
   },
   "outputs": [],
   "source": [
    "# Let's take a look at the data in tabular format\n",
    "longdf"
   ]
  },
  {
   "cell_type": "markdown",
   "id": "23f2e950-0567-4fee-8c78-c13d383390db",
   "metadata": {},
   "source": [
    "Note: by default, this is only pulling data with node_q of 0 and 1. You can optionally supply another input to the PullLongitudinalProfile function that allows you to specify which quality flags to include. "
   ]
  },
  {
   "cell_type": "code",
   "execution_count": null,
   "id": "9619c80b-aced-4f77-80fb-338909bbe0c2",
   "metadata": {
    "tags": []
   },
   "outputs": [],
   "source": [
    "# Convert to NAVD88\n",
    "longdf[\"wse\"] = longdf[\"wse\"] + swot_offset"
   ]
  },
  {
   "cell_type": "code",
   "execution_count": null,
   "id": "9a94b465-43e0-45d2-9cba-e38fb53f63a1",
   "metadata": {
    "tags": []
   },
   "outputs": [],
   "source": [
    "# Plot long profiles, color-coded by date\n",
    "px.line(longdf,x='p_dist_out',y='wse',color='date',\n",
    "       labels={\"p_dist_out\": \"Distance to outlet [m]\",\n",
    "               \"wse\": \"wse[m]\"},\n",
    "        markers=True)"
   ]
  },
  {
   "cell_type": "markdown",
   "id": "74733a92-8115-42f1-9de6-a6ced34be78f",
   "metadata": {},
   "source": [
    "The \"distance to outlet\" data (the outlet point in the ocean) are not easy to parse\n",
    "\n",
    "Let's plot distance as kilometers to Tanana confluence instead "
   ]
  },
  {
   "cell_type": "code",
   "execution_count": null,
   "id": "98dc35a0-c56a-4683-9d16-0ffb49acfb71",
   "metadata": {
    "tags": []
   },
   "outputs": [],
   "source": [
    "# This is based on the observation from the above graph that the minimum flow distance could be treated as a \"zero\" point.\n",
    "# This same thing could be done for any reach. Just happens that this one ends at Tanana\n",
    "longdf['dist_up_conf']=(longdf['p_dist_out']-longdf['p_dist_out'].min())/1000."
   ]
  },
  {
   "cell_type": "code",
   "execution_count": null,
   "id": "6572605b-ca97-4f6f-931e-ab077357a323",
   "metadata": {
    "tags": []
   },
   "outputs": [],
   "source": [
    "# Plot compared with distance to Tanana confluence\n",
    "px.line(longdf,x='dist_up_conf',y='wse',color='date',\n",
    "       labels={\"dist_up_conf\": \"Distance to Tanana confluence [km]\",\n",
    "               \"wse\": \"wse[m]\"},\n",
    "        markers=True)"
   ]
  },
  {
   "cell_type": "code",
   "execution_count": null,
   "id": "31ab6dc2-9f87-4750-90a6-3fcf67df7f9b",
   "metadata": {
    "tags": []
   },
   "outputs": [],
   "source": [
    "# Convert to English units\n",
    "longdf['wse [ft]'] = longdf['wse']/0.3048\n",
    "longdf['dist_up_conf [mi]'] = longdf['dist_up_conf']*0.62"
   ]
  },
  {
   "cell_type": "code",
   "execution_count": null,
   "id": "32f1627d-8ba9-40d4-83e5-d5ad1154dcfa",
   "metadata": {
    "tags": []
   },
   "outputs": [],
   "source": [
    "# Plot in English units\n",
    "px.line(longdf,x='dist_up_conf [mi]',y='wse [ft]',color='date',\n",
    "       labels={\"dist_up_conf [mi]\": \"Distance to Tanana confluence [mi]\",\n",
    "               \"wse\": \"wse[feet]\"},\n",
    "        markers=True)"
   ]
  },
  {
   "cell_type": "markdown",
   "id": "58353a18-98ec-47fc-bdee-9cc15bc1b994",
   "metadata": {},
   "source": [
    "This is really interesting: it seems to show that the upstream water elevation changes much less than downstream. And it also looks as if the slope is flatter at high flow, and steeper at low flow. We can check that by comparing the SWOT slope data, which I pulled manually from graph above:\n",
    "* August 4, 2024: 0.00162 ft/ft\n",
    "* October 27, 2024: 0.00167 ft/ft "
   ]
  },
  {
   "cell_type": "code",
   "execution_count": null,
   "id": "83586120-4140-4f77-8416-a4298dd4b222",
   "metadata": {
    "tags": []
   },
   "outputs": [],
   "source": [
    "# Now let's look at width\n",
    "longdf['width [ft]'] = longdf['width']/0.3048\n",
    "px.line(longdf,x='dist_up_conf [mi]',y='width [ft]',color='date',\n",
    "       labels={\"dist_up_conf [mi]\": \"Distance to Tanana confluence [mi]\",\n",
    "               \"width [ft]\": \"river width [feet]\"},\n",
    "        markers=True)"
   ]
  },
  {
   "cell_type": "markdown",
   "id": "afcd99ff-9a8a-42f7-a743-618d773072dc",
   "metadata": {},
   "source": [
    "SWOT is clearly capturing the high and low points. However, severael things are going on, here. The times when SWOT width goes to zero in August are clearly wrong. This is likely the result of a major software updated applied in October 2024. All data will be reprocessed in calendar year 2025 but for now, everything before October 2024 is subject to some errors especially in width."
   ]
  },
  {
   "cell_type": "markdown",
   "id": "1f97fad3-1c0a-4912-a213-0657f593672c",
   "metadata": {},
   "source": [
    "## 6. Export data to csv and download\n",
    "\n",
    "This command downloads data to the local file on "
   ]
  },
  {
   "cell_type": "code",
   "execution_count": null,
   "id": "c86d27fd-6eab-4cc8-b635-5485093a98c7",
   "metadata": {
    "tags": []
   },
   "outputs": [],
   "source": [
    "longdf.to_csv('example-long-profile-output.csv')"
   ]
  },
  {
   "cell_type": "markdown",
   "id": "280863cc-55f2-4498-8dc4-1887925fa2d3",
   "metadata": {},
   "source": [
    "Now you can right click the .csv file in the file list on the left, and download to your local computer!"
   ]
  },
  {
   "cell_type": "code",
   "execution_count": null,
   "id": "e104d04d-2a78-4fbd-aeab-9f197e36ed06",
   "metadata": {},
   "outputs": [],
   "source": []
  }
 ],
 "metadata": {
  "kernelspec": {
   "display_name": "Python [conda env:base] *",
   "language": "python",
   "name": "conda-base-py"
  },
  "language_info": {
   "codemirror_mode": {
    "name": "ipython",
    "version": 3
   },
   "file_extension": ".py",
   "mimetype": "text/x-python",
   "name": "python",
   "nbconvert_exporter": "python",
   "pygments_lexer": "ipython3",
   "version": "3.11.10"
  }
 },
 "nbformat": 4,
 "nbformat_minor": 5
}
