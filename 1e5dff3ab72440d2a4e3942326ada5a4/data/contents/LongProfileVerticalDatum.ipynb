{
 "cells": [
  {
   "cell_type": "markdown",
   "id": "5d9276ec-ef74-4924-a8d3-a0f40c4987ef",
   "metadata": {},
   "source": [
    "# Notebook to visualize SWOT longitudinal profile data, and modify vertical datum and units\n",
    "\n",
    "The SWOT satellite measures water surface elevation, width and slope. It was launched in December 2022. It sees nearly all global rivers and lakes. For higher-latitude places such as Alaska, places are usually 3 or 4 times per 21 day cycle.\n",
    "\n",
    "<img src=\"SWOT-Mission-Surface-Water-Ocean-Topography.jpg\" alt=\"SWOT\" width=\"500\"/>\n",
    "\n",
    "Key documents: https://podaac.jpl.nasa.gov/SWOT\n",
    "\n",
    "The SWOT river data are organized by unique reachids. \n",
    "\n",
    "The workflow in the notebook contains cells that run Python code that do the following: \n",
    "1. Set up the compute environment by importing software packages\n",
    "2. Identifying the reachid you are interested in, by going to the \"SWORD Explorer\" website\n",
    "3. Enter the period of interest for pulling longprofiles\n",
    "4. Show long profile and manipulate units and vertical datum\n",
    "\n"
   ]
  },
  {
   "cell_type": "markdown",
   "id": "b10ecae1-363a-44a9-a7de-07e1762269d5",
   "metadata": {},
   "source": [
    "\n",
    "\n",
    "To do\n",
    "* Map nodes\n",
    "* Add datum conversinon with vdatum API"
   ]
  },
  {
   "cell_type": "markdown",
   "id": "e49659b0-bdfa-4283-abbb-b9306380dd91",
   "metadata": {},
   "source": [
    "## 1 Set up environment\n",
    "\n",
    "The Python cells below need to be run each time the notebook is executed. The set up the needed libraries to run here in CUAHSI's Jupyter Hub cloud."
   ]
  },
  {
   "cell_type": "code",
   "execution_count": null,
   "id": "90b466d9-15b4-4492-ad67-15e7880709b4",
   "metadata": {
    "tags": []
   },
   "outputs": [],
   "source": [
    "#we'll use the plotly library to show the data. other libraries are in the Utilities.py file\n",
    "import plotly.express as px"
   ]
  },
  {
   "cell_type": "code",
   "execution_count": null,
   "id": "77399eeb-733a-4336-b099-119341ac3444",
   "metadata": {
    "tags": []
   },
   "outputs": [],
   "source": [
    "# these two functions pull reach timeseris and long profiles respectively\n",
    "from Utilities import PullReachTimeseries, PullLongitudinalProfile"
   ]
  },
  {
   "cell_type": "markdown",
   "id": "442223ae-2e1d-41ee-b496-ab70bdc1e616",
   "metadata": {},
   "source": [
    "## 2 Find reach of interest\n",
    "\n",
    "To choose a reach to analyze, go to SWORD Explorer: https://www.swordexplorer.com\n",
    "\n",
    "To view Alaska, you must first click on the \"81\" basin. Then you should see a map that looks like this. Zoom in, and click on the reach you are interested in, and you'll see the reachid pop up.\n",
    "\n",
    "<img src=\"SWORD.png\" alt=\"SWORD\" width=\"500\"/>\n"
   ]
  },
  {
   "cell_type": "code",
   "execution_count": null,
   "id": "0e6faf0b-1790-42e0-9340-96d3c7ca40be",
   "metadata": {
    "tags": []
   },
   "outputs": [],
   "source": [
    "# define reach\n",
    "reachid='81246000021' # this is the Nenana River at Nenana"
   ]
  },
  {
   "cell_type": "markdown",
   "id": "5d70cea2-d20c-4085-bb26-fe43722afbe9",
   "metadata": {},
   "source": [
    "## 3 Define time period of interest\n",
    "\n",
    "This will pull and show a timeseries of SWOT overpasses for a reach, by displaying a timeseries of water elevations."
   ]
  },
  {
   "cell_type": "code",
   "execution_count": null,
   "id": "ca32a3a6-2423-44ea-95bd-c1ae136e60e6",
   "metadata": {
    "tags": []
   },
   "outputs": [],
   "source": [
    "df=PullReachTimeseries(reachid)"
   ]
  },
  {
   "cell_type": "code",
   "execution_count": null,
   "id": "1f7875b6-a397-4957-9d1f-7348fba7e3bd",
   "metadata": {},
   "outputs": [],
   "source": [
    "# Extract representative x (longitude) and y (latitude) to use for vdatum api to convert vertical datum\n",
    "x = df.p_lon.unique().item()\n",
    "y = df.p_lat.unique().item()"
   ]
  },
  {
   "cell_type": "code",
   "execution_count": null,
   "id": "e320376d-cb2f-4267-8e4e-3dd655ba1310",
   "metadata": {
    "tags": []
   },
   "outputs": [],
   "source": [
    "# TODO : Currently this is just a placeholder for api for testing purpose. DO NOT USE IN PRODUCTION ENVIRONMENT\n",
    "# https://vdatum.noaa.gov/docs/services.html\n",
    "# Query vdatum api to calculate offset between two vertical datums\n",
    "import requests\n",
    "import json\n",
    "vdatum_url = f\"https://vdatum.noaa.gov/vdatumweb/api/convert?region=ak&s_x={x}&s_y={y}&s_h_frame=WGS84_G1674&s_v_frame=EGM2008&s_v_geoid=egm2008&t_v_frame=NAVD88&t_v_geoid=geoid12b\"\n",
    "res = requests.get(vdatum_url)\n",
    "# load data into a dictionary\n",
    "data=json.loads(res.text)\n",
    "offset = float(data[\"t_z\"])  # this is the offset between two datums. Add/subtract"
   ]
  },
  {
   "cell_type": "code",
   "execution_count": null,
   "id": "13dcc700-18c0-4db1-ba18-e6637cba66e3",
   "metadata": {
    "tags": []
   },
   "outputs": [],
   "source": [
    "# Apply the datum conversion offset\n",
    "df[\"wse\"] = df[\"wse\"] + offset  # double check if this should be added or subtracted"
   ]
  },
  {
   "cell_type": "code",
   "execution_count": null,
   "id": "27a15522-104f-42c8-9736-65773ec171aa",
   "metadata": {
    "tags": []
   },
   "outputs": [],
   "source": [
    "# plot swot data as a timeseries\n",
    "px.line(df,x='time_str',y='wse',\n",
    "       labels={\"time_str\": \"\",\n",
    "               \"wse\": \"wse[m]\"},\n",
    "        markers=True)"
   ]
  },
  {
   "cell_type": "markdown",
   "id": "4b7abe87-eb7d-44ea-bdfc-60b5a817b43c",
   "metadata": {},
   "source": [
    "This data has been filtered to include quality flags 0 and 1 (good and suspect). \n",
    "\n",
    "You should notice that some observations look a bit more suspect than others. \n",
    "\n",
    "A more sophisticated filter might be able to remove datapoints such as on September 16, but this is shown here to remember to apply sanity checks at all times. Notice too that I have not removed ice flagged data.\n",
    "\n",
    "There was a processing update in October 2024, and data since then has looked a bit better. \n",
    "\n",
    "Look at above plot and choose a day where there is data to analyze long profile.\n",
    "\n",
    "From above, I am interested in seeing the profile August 4. It does not look abnormal, and it is in an ice-free time"
   ]
  },
  {
   "cell_type": "code",
   "execution_count": null,
   "id": "5438256e-584e-4106-8102-4d5a61f081a2",
   "metadata": {
    "tags": []
   },
   "outputs": [],
   "source": [
    "# save the day as yyyy-mm-dd. \n",
    "tlong='2024-08-04'"
   ]
  },
  {
   "cell_type": "markdown",
   "id": "adae9272-3176-45a7-ab6a-6a3382044451",
   "metadata": {},
   "source": [
    "Notebook cells below will pull a long profile for this day"
   ]
  },
  {
   "cell_type": "markdown",
   "id": "7ce3e4ec-3da1-4ce2-aaa4-d5b29d65862c",
   "metadata": {},
   "source": [
    "## Pull longitudinal profile"
   ]
  },
  {
   "cell_type": "code",
   "execution_count": null,
   "id": "206c0260-d92b-4c31-8f96-f0988b9b11ce",
   "metadata": {
    "tags": []
   },
   "outputs": [],
   "source": [
    "longdf=PullLongitudinalProfile(reachid,tlong)"
   ]
  },
  {
   "cell_type": "code",
   "execution_count": null,
   "id": "9619c80b-aced-4f77-80fb-338909bbe0c2",
   "metadata": {
    "tags": []
   },
   "outputs": [],
   "source": [
    "# Apply the datum conversion offset\n",
    "longdf[\"wse\"] = longdf[\"wse\"] + offset  # double check if this should be added or subtracted"
   ]
  },
  {
   "cell_type": "code",
   "execution_count": null,
   "id": "9a94b465-43e0-45d2-9cba-e38fb53f63a1",
   "metadata": {
    "tags": []
   },
   "outputs": [],
   "source": [
    "px.line(longdf,x='p_dist_out',y='wse',\n",
    "       labels={\"p_dist_out\": \"Distance to outlet [m]\",\n",
    "               \"wse\": \"wse[m]\"},\n",
    "        markers=True)"
   ]
  },
  {
   "cell_type": "markdown",
   "id": "74733a92-8115-42f1-9de6-a6ced34be78f",
   "metadata": {},
   "source": [
    "The distance to outlet data are not easy to parse\n",
    "\n",
    "Let's plot distance as kilometers to Tanana confluence instead "
   ]
  },
  {
   "cell_type": "code",
   "execution_count": null,
   "id": "98dc35a0-c56a-4683-9d16-0ffb49acfb71",
   "metadata": {
    "tags": []
   },
   "outputs": [],
   "source": [
    "longdf['dist_up_conf']=(longdf['p_dist_out']-longdf['p_dist_out'].min())/1000."
   ]
  },
  {
   "cell_type": "code",
   "execution_count": null,
   "id": "6572605b-ca97-4f6f-931e-ab077357a323",
   "metadata": {
    "tags": []
   },
   "outputs": [],
   "source": [
    "px.line(longdf,x='dist_up_conf',y='wse',\n",
    "       labels={\"dist_up_conf\": \"Distance to Tanana confluence [km]\",\n",
    "               \"wse\": \"wse[m]\"},\n",
    "        markers=True)"
   ]
  },
  {
   "cell_type": "code",
   "execution_count": null,
   "id": "31ab6dc2-9f87-4750-90a6-3fcf67df7f9b",
   "metadata": {
    "tags": []
   },
   "outputs": [],
   "source": [
    "# convert to English units\n",
    "longdf['wse [ft]']=longdf['wse']/.3048\n",
    "longdf['dist_up_conf [mi]']=longdf['dist_up_conf']*.62"
   ]
  },
  {
   "cell_type": "code",
   "execution_count": null,
   "id": "32f1627d-8ba9-40d4-83e5-d5ad1154dcfa",
   "metadata": {
    "tags": []
   },
   "outputs": [],
   "source": [
    "px.line(longdf,x='dist_up_conf [mi]',y='wse [ft]',\n",
    "       labels={\"dist_up_conf [mi]\": \"Distance to Tanana confluence [mi]\",\n",
    "               \"wse\": \"wse[feet]\"},\n",
    "        markers=True)"
   ]
  },
  {
   "cell_type": "code",
   "execution_count": null,
   "id": "a67c46fc-8b61-4742-bb54-185858177428",
   "metadata": {},
   "outputs": [],
   "source": []
  },
  {
   "cell_type": "code",
   "execution_count": null,
   "id": "9b5172d9-79c7-4a75-832f-6325ea535f04",
   "metadata": {},
   "outputs": [],
   "source": []
  }
 ],
 "metadata": {
  "kernelspec": {
   "display_name": "Python 3 (ipykernel)",
   "language": "python",
   "name": "python3"
  },
  "language_info": {
   "codemirror_mode": {
    "name": "ipython",
    "version": 3
   },
   "file_extension": ".py",
   "mimetype": "text/x-python",
   "name": "python",
   "nbconvert_exporter": "python",
   "pygments_lexer": "ipython3",
   "version": "3.12.7"
  }
 },
 "nbformat": 4,
 "nbformat_minor": 5
}
