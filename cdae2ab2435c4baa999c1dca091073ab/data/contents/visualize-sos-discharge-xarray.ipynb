{
 "cells": [
  {
   "cell_type": "markdown",
   "id": "36b428df-d1bb-4ac4-96ae-5e6d74991f3e",
   "metadata": {
    "tags": []
   },
   "source": [
    "# Notebook to visualize SWOT discharge data obtained from SoS\n",
    "\n",
    "The SWORD of Science (SoS) is a community-driven dataset created as part of the cloud-based Confluence workflow, which facilitates rapid access to and processing of SWOT data. SoS serves as both an input and output repository for the workflow. It includes prior hydrologic data such as global agency gauge records, the Water Balance Model (WBM), and Global Reach-scale A priori Discharge Estimates (GRADES). Additionally, it stores the final results from each module of the Confluence workflow, providing key discharge parameters required for the SWOT mission.\n",
    "\n",
    "<img src=\"Global-River-Discharge-from-SWOT.jpg\" alt=\"SWOTDischarge\" width=\"500\"/>\n",
    "\n",
    "<br>\n",
    "\n",
    "Image Source: *Michael Durand, Colin J. Gleason, Tamlin M. Pavelsky, Renato Prata de Moraes Frasson, Michael Turmon, Cédric H. David, Elizabeth H. Altenau, Nikki Tebaldi, Kevin Larnier, Jerome Monnier, Pierre Olivier Malaterre, Hind Oubanas, George H. Allen, Brian Astifan, Craig Brinkerhoff, Paul D. Bates, David Bjerklie, Stephen Coss, Robert Dudley, Luciana Fenoglio, Pierre-André Garambois, Augusto Getirana, Peirong Lin, Steven A. Margulis, Pascal Matte, J. Toby Minear, Aggrey Muhebwa, Ming Pan, Daniel Peters, Ryan Riggs, Md Safat Sikder, Travis Simmons, Cassie Stuurman, Jay Taneja, Angelica Tarpanelli, Kerstin Schulze, Mohammad J. Tourian, Jida Wang. 2023. A Framework for Estimating Global River Discharge From the Surface Water and Ocean Topography Satellite Mission, *Water Resources Research*, 59(4). [https://doi.org/10.1029/2021WR031614](https://doi.org/10.1029/2021WR*\n",
    "\n",
    "\n",
    "Key documents: https://podaac.jpl.nasa.gov/dataset/SWOT_L4_DAWG_SOS_DISCHARGE\n",
    "\n",
    "This notebook was written by Anthony Castronova (acastronova@cuahsi.org) and Irene Garousi-Nejad (igarousi@cuahsi.org), CUAHSI."
   ]
  },
  {
   "cell_type": "markdown",
   "id": "69e62dd3-8869-4158-b2d6-356257c8ce01",
   "metadata": {},
   "source": [
    "## 1 Set up environment\n",
    "\n",
    "The Python cells below need to be run each time the notebook is executed. The set up the needed libraries to run here in CUAHSI's Jupyter Hub cloud. You’ll need valid **Earthdata** login credentials to access the data used in this notebook. If you don’t already have an account, you can create one at https://urs.earthdata.nasa.gov/. **Without these credentials, you won't be able to access the required datasets or run the notebook as intended.**"
   ]
  },
  {
   "cell_type": "code",
   "execution_count": null,
   "id": "b93afda5-6331-4e50-ad4b-9a9f723a67cf",
   "metadata": {
    "tags": []
   },
   "outputs": [],
   "source": [
    "!pip install -r requirements.txt"
   ]
  },
  {
   "cell_type": "code",
   "execution_count": null,
   "id": "4ca82cc6-463c-4319-b82f-43718bd2fb33",
   "metadata": {
    "tags": []
   },
   "outputs": [],
   "source": [
    "import os\n",
    "import xarray\n",
    "import earthaccess\n",
    "import h5netcdf\n",
    "import getpass\n",
    "import numpy as np\n",
    "import plotly.express as px\n",
    "import pandas as pd\n",
    "import matplotlib.pyplot as plt\n",
    "from datetime import datetime, timedelta\n",
    "\n",
    "# Prompt the user for Earthdata credentials interactively\n",
    "username = input(\"Enter your Earthdata username: \")\n",
    "password = getpass.getpass(\"Enter your Earthdata password (input hidden): \")\n",
    "\n",
    "# Set environment variables\n",
    "os.environ[\"EARTHDATA_USERNAME\"] = username\n",
    "os.environ[\"EARTHDATA_PASSWORD\"] = password\n",
    "\n",
    "# Login using the credentials\n",
    "auth = earthaccess.login(strategy=\"environment\")"
   ]
  },
  {
   "cell_type": "markdown",
   "id": "54dabd42-39cc-44dc-9068-a7a2d2a550c4",
   "metadata": {},
   "source": [
    "## 2 Search for SWOT discharge data granules\n",
    "\n",
    "The following code cell uses the Earthdata `earthaccess` API to search for SWOT discharge data by specifying a product name and a date range. It returns basic information about the available data files that match our search. "
   ]
  },
  {
   "cell_type": "code",
   "execution_count": null,
   "id": "628c2bda-cd70-40e7-a109-f4929c2e725d",
   "metadata": {
    "scrolled": true,
    "tags": []
   },
   "outputs": [],
   "source": [
    "# Search and locate granules\n",
    "granule_info = earthaccess.search_data(\n",
    "    short_name=\"SWOT_L4_DAWG_SOS_DISCHARGE\",\n",
    "    temporal=(\"2023-04-07\", \"2023-04-26\"),\n",
    ")"
   ]
  },
  {
   "cell_type": "markdown",
   "id": "8f25772b-4dcb-4b6e-8fbb-e5c23e4b3293",
   "metadata": {},
   "source": [
    "The output contains a series of SWOT discharge data granules. Each granule corresponds to a specific version (Version:1 ) of the SWOT_L4_DAWG_SOS_DISCHARGE data collection. For each granule, the following metadata is shown:\n",
    "* Spatial Coverage: The geographic bounding box where the data applies\n",
    "* Temporal Coverage: The date and time range the granule covers.\n",
    "* Size: The size of the data file.\n",
    "* Data: URLs linking to NetCDF files—typically a `*_results.nc` file with output data and a `*_priors.nc` file with input or constraint data used in the model."
   ]
  },
  {
   "cell_type": "code",
   "execution_count": null,
   "id": "d2bcdaf7-8d67-490b-a945-9718f2043d26",
   "metadata": {
    "tags": []
   },
   "outputs": [],
   "source": [
    "# Display the metadata for the first two items\n",
    "granule_info[0:2]"
   ]
  },
  {
   "cell_type": "markdown",
   "id": "ae863e1b-d1fa-46c3-8f38-1d1d252ccb8c",
   "metadata": {},
   "source": [
    "After obtaining granule_info, use the Earthdata `open` function to generate a list of cloud-hosted file-like objects, where each item represents a SWOT SoS NetCDF file. Each file is either a `*_results.nc` file containing model outputs or a `*_priors.nc` file with input parameters used in the modeling process. This step is essential before accessing and exploring specific data groups within the files, as it provides the necessary remote file references for lazy cloud-based access."
   ]
  },
  {
   "cell_type": "code",
   "execution_count": null,
   "id": "6dff7a75-4fe2-45d4-83a0-d0da94649ec5",
   "metadata": {
    "tags": []
   },
   "outputs": [],
   "source": [
    "%%time\n",
    "\n",
    "files = earthaccess.open(granule_info)"
   ]
  },
  {
   "cell_type": "code",
   "execution_count": null,
   "id": "f7e4c044-008f-4971-929d-731665806b0f",
   "metadata": {
    "tags": []
   },
   "outputs": [],
   "source": [
    "# Print the first two items of the list\n",
    "files[0:2]"
   ]
  },
  {
   "cell_type": "markdown",
   "id": "dbb2c3c5-eb93-442b-9ce6-b047ff2eb8c4",
   "metadata": {
    "tags": []
   },
   "source": [
    "The items are ordered sequentially in the list. So files[0] is the first results file, files[1] is its associated priors file, and so on. The SoS dataset is organized into multiple named groups, each corresponding to a distinct module (algorithm) used in the Confluence workflow. Using Python's `h5netcdf` package, we can list these groups. You can explore detailed descriptions of these groups and their contents in the official data tutorial at https://podaac.github.io/tutorials/notebooks/datasets/SWOT_L4_DAWG_SOS_DISCHARGE.html.\n"
   ]
  },
  {
   "cell_type": "code",
   "execution_count": null,
   "id": "1a8bbe07-136f-4fe5-af02-5ca6c11aede7",
   "metadata": {
    "tags": []
   },
   "outputs": [],
   "source": [
    "%%time\n",
    "\n",
    "with h5netcdf.File(files[4], mode='r') as f:\n",
    "    print(list(f.keys()))  "
   ]
  },
  {
   "cell_type": "markdown",
   "id": "52a7f2be-ee97-4c73-a850-e82a620468c6",
   "metadata": {},
   "source": [
    "These groups can be accessed directly from the SoS NetCDF file using tools like xarray as shown in the next section. "
   ]
  },
  {
   "cell_type": "markdown",
   "id": "3caa3d0b-33cb-4741-8b3a-b843fa20db77",
   "metadata": {},
   "source": [
    "## 3 Access and explore SoS reach data using xarray \n",
    "\n",
    "We use xarray twice here to directly load two different groups from the same SWOT SoS cloud-hosted **results** files:\n",
    "\n",
    "* `reaches` group: contains metadata about each river reach (such as reach_id, river_name, etc.).\n",
    "* `hivdi` group: contains the discharge time series (Q) estimated by the HiVDI algorithm, using the same set of reaches.\n",
    "\n",
    "You notice that both datasets share the same dimension size (`num_reaches`). We load the reaches and hivdi groups separately because both sets of information are needed for this analysis and visualization. "
   ]
  },
  {
   "cell_type": "code",
   "execution_count": null,
   "id": "c2c628b0-da36-4d10-a68a-4c5e46aaab97",
   "metadata": {
    "tags": []
   },
   "outputs": [],
   "source": [
    "%%time\n",
    "\n",
    "ds_reaches = xarray.open_dataset(files[4],\n",
    "                                 group='reaches',\n",
    "                                 engine='h5netcdf',\n",
    "                                 decode_cf=False,    \n",
    "                                 decode_times=False, \n",
    "                                 decode_coords=False)\n",
    "ds_reaches"
   ]
  },
  {
   "cell_type": "code",
   "execution_count": null,
   "id": "090fe22f-d8b1-4992-a6a3-fccfa04a8041",
   "metadata": {
    "tags": []
   },
   "outputs": [],
   "source": [
    "%%time\n",
    "\n",
    "ds_hivdi = xarray.open_dataset(files[4],\n",
    "                           group='hivdi',\n",
    "                           engine='h5netcdf',\n",
    "                           decode_cf=False,    \n",
    "                           decode_times=False, \n",
    "                           decode_coords=False,\n",
    "                        )\n",
    "ds_hivdi"
   ]
  },
  {
   "cell_type": "markdown",
   "id": "0b667f05-81f4-4fc8-aba7-647f796f68b1",
   "metadata": {},
   "source": [
    "The `reaches` group provides structural metadata for each reach, while the `hivdi` group contains the discharge time series estimates. We will combine them using the common `num_reaches` coordinate to create a unified dataset that links each reach's discharge values with its corresponding metadata, enabling more effective exploration and interpretation."
   ]
  },
  {
   "cell_type": "code",
   "execution_count": null,
   "id": "00c95a8e-c99a-4c6a-a9e2-4cb2f3f12d19",
   "metadata": {
    "tags": []
   },
   "outputs": [],
   "source": [
    "# Merge two datasets using the common coordinate\n",
    "ds_merged = xarray.combine_by_coords([ds_reaches, ds_hivdi])\n",
    "ds_merged"
   ]
  },
  {
   "cell_type": "markdown",
   "id": "8924ceb9-2dd1-4699-a0d5-0ed2123d181b",
   "metadata": {},
   "source": [
    "## 4 Filter discharge data by river name\n",
    "\n",
    "\n",
    "This section shows how to extract discharge data for a specific river from the merged SoS dataset. The dataset includes discharge time series linked to geographic coordinates that intersect with river reaches defined in the SWORD database. To focus our analysis, we isolate a subset of reaches associated with a user-defined river, for example the **Rhine River**, using a simple filtering approach.\n"
   ]
  },
  {
   "cell_type": "code",
   "execution_count": null,
   "id": "fb3218d3-e4f9-4bed-809f-c58bff817db9",
   "metadata": {
    "tags": []
   },
   "outputs": [],
   "source": [
    "# Select a river of interest\n",
    "RIVER_NAME = \"Rhine\""
   ]
  },
  {
   "cell_type": "markdown",
   "id": "05fadecd-4f8f-444e-9fa3-e0cfeee1d918",
   "metadata": {},
   "source": [
    "Select all elements from the reaches dataset that are associated with the river named above."
   ]
  },
  {
   "cell_type": "code",
   "execution_count": null,
   "id": "172b20e4-522a-48a3-a773-0a5e4ae60408",
   "metadata": {
    "tags": []
   },
   "outputs": [],
   "source": [
    "# Create a mask with values of True where the following condition is met, otherwise False.\n",
    "mask = (ds_merged.river_name == RIVER_NAME).compute()"
   ]
  },
  {
   "cell_type": "code",
   "execution_count": null,
   "id": "f72167c9-8c8f-4ac1-8e23-7161c8f89734",
   "metadata": {
    "tags": []
   },
   "outputs": [],
   "source": [
    "# Use the mask to filter our data\n",
    "ds_filtered = ds_merged.where(mask, drop=True)\n",
    "ds_filtered"
   ]
  },
  {
   "cell_type": "markdown",
   "id": "0edf7cbc-185d-4d48-96c3-b73fa8d36674",
   "metadata": {},
   "source": [
    "## 5 Locate and analyze discharge timeseries for a reach of interest\n",
    "\n"
   ]
  },
  {
   "cell_type": "markdown",
   "id": "73f494ed-9969-4b95-8145-387881c6997c",
   "metadata": {},
   "source": [
    "We begin by visualizing all reach centerpoints (`x`,`y`) along the river of interest using an interactive map. You can hover over each point to view the reach_id, then identify a specific reach to explore its estimated discharge over time."
   ]
  },
  {
   "cell_type": "code",
   "execution_count": null,
   "id": "a0b19400-a403-44a3-80ff-4a731748418f",
   "metadata": {
    "tags": []
   },
   "outputs": [],
   "source": [
    "# Convert xarray to pandas DataFrame\n",
    "df = ds_filtered[['x', 'y', 'reach_id']].to_dataframe().reset_index()\n",
    "\n",
    "# Rename for clarity\n",
    "df = df.rename(columns={\"x\": \"lon\", \"y\": \"lat\"})\n",
    "\n",
    "# Create interactive scatter plot with Mapbox\n",
    "fig = px.scatter_map(\n",
    "    df,\n",
    "    lat=\"lat\",\n",
    "    lon=\"lon\",\n",
    "    hover_name=\"reach_id\",\n",
    "    zoom=5,\n",
    "    height=700,\n",
    "    color_discrete_sequence=[\"blue\"],\n",
    "    title=f\"{RIVER_NAME} Reach Centerpoint Locations\"\n",
    ")\n",
    "\n",
    "fig.show()\n"
   ]
  },
  {
   "cell_type": "markdown",
   "id": "506bc1b0-ef40-4aa9-99d7-bb3038f865b3",
   "metadata": {},
   "source": [
    "Print the first 10 reach identifiers associated with the selected river. This can help you pick a specific reach of interest to analyze further."
   ]
  },
  {
   "cell_type": "code",
   "execution_count": null,
   "id": "42c03cec-719a-4fc6-91cc-a1dbb66c490a",
   "metadata": {
    "tags": []
   },
   "outputs": [],
   "source": [
    "print(f'{RIVER_NAME} consists of the following reach identifiers')\n",
    "for rid in ds_filtered.reach_id.values[:10]:\n",
    "    print(str(rid))\n",
    "print('...')"
   ]
  },
  {
   "cell_type": "markdown",
   "id": "655b0b56-e48f-44e0-8932-1813509d5223",
   "metadata": {},
   "source": [
    "To plot the estimated discharge for the reach of interest, we first identify the index of the selected `reach_id` within the dataset. Using this index, we extract the corresponding discharge time series values associated with that specific reach."
   ]
  },
  {
   "cell_type": "code",
   "execution_count": null,
   "id": "7b90d163-7ca3-4034-85cd-ab2f087d3c99",
   "metadata": {
    "tags": []
   },
   "outputs": [],
   "source": [
    "reach_id = 23267000021.0\n",
    "reach_idx = np.where(ds_filtered.reach_id == reach_id)[0].item()\n",
    "discharge = ds_filtered.Q.values[reach_idx]"
   ]
  },
  {
   "cell_type": "markdown",
   "id": "d5f1dccf-bb03-469a-85bf-2f97a3e236d7",
   "metadata": {},
   "source": [
    "Since the temporal data in the SWOT SoS files is stored as seconds elapsed since January 1, 2000, these values are then converted into standard Python `datetime` objects. This conversion ensures that the discharge data can be correctly plotted on a familiar time scale."
   ]
  },
  {
   "cell_type": "code",
   "execution_count": null,
   "id": "1b39a901-13f9-4555-88a7-3ea45392048e",
   "metadata": {
    "tags": []
   },
   "outputs": [],
   "source": [
    "reference_date = datetime(2000, 1, 1, 0, 0, 0)\n",
    "times = np.vectorize( lambda t: reference_date + timedelta(seconds=t))( ds_filtered.time.values[reach_idx])"
   ]
  },
  {
   "cell_type": "markdown",
   "id": "87f01b65-f040-4f5d-bfd2-83166cce53ee",
   "metadata": {},
   "source": [
    "Plot discharge"
   ]
  },
  {
   "cell_type": "code",
   "execution_count": null,
   "id": "449befa0-eb8d-404a-8c29-86b64d7de590",
   "metadata": {
    "tags": []
   },
   "outputs": [],
   "source": [
    "import plotly.graph_objects as go\n",
    "\n",
    "fig = go.Figure()\n",
    "\n",
    "fig.add_trace(go.Scatter(\n",
    "    x=times,\n",
    "    y=discharge,\n",
    "    mode='lines+markers',\n",
    "    name='Discharge',\n",
    "    line=dict(color='royalblue'),\n",
    "    marker=dict(size=6)\n",
    "))\n",
    "\n",
    "fig.update_layout(\n",
    "    title=f\"Discharge Time Series from HiVDI for the {RIVER_NAME} — Reach ID: {reach_id}\",\n",
    "    xaxis_title='Time',\n",
    "    yaxis_title='Discharge (m³/s)',\n",
    "    xaxis_tickformat='%Y-%m-%d',\n",
    "    height=500\n",
    ")\n",
    "\n",
    "fig.show()\n"
   ]
  },
  {
   "cell_type": "code",
   "execution_count": null,
   "id": "be5b80af-ec8d-4afb-807d-38c781da7f74",
   "metadata": {},
   "outputs": [],
   "source": []
  }
 ],
 "metadata": {
  "kernelspec": {
   "display_name": "Python [conda env:base] *",
   "language": "python",
   "name": "conda-base-py"
  },
  "language_info": {
   "codemirror_mode": {
    "name": "ipython",
    "version": 3
   },
   "file_extension": ".py",
   "mimetype": "text/x-python",
   "name": "python",
   "nbconvert_exporter": "python",
   "pygments_lexer": "ipython3",
   "version": "3.11.10"
  }
 },
 "nbformat": 4,
 "nbformat_minor": 5
}
