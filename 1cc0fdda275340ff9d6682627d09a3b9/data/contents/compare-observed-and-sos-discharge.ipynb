{
 "cells": [
  {
   "cell_type": "markdown",
   "id": "d18d1ffa-0093-4ad5-b1b6-ebdb5b3237fb",
   "metadata": {},
   "source": [
    "# Validating discharge estimates from SWOT SoS using observations from SWOT SHCQ\n",
    "\n",
    "The SWOT mission aims to provide global estimates of river discharge. To ensure those estimates are credible, they need to be benchmarked against real-world observations. Many regions lack dense, high-quality gauge networks. The SWOT Hydrology Community Discharge repository (SWOT SHCQ) addresses this gap by aggregating in-situ streamflow data from a wide range of sources. These community-contributed datasets are essential for evaluating and constraining SWOT discharge estimates and directly inform the refinement of algorithms such as HiVDI by highlighting areas of strong or weak model performance.\n",
    "\n",
    "<img src=\"Global-River-Discharge-from-SWOT.jpg\" alt=\"SWOTDischarge\" width=\"500\"/>\n",
    "\n",
    "<br>\n",
    "\n",
    "Image Source: *Michael Durand, Colin J. Gleason, Tamlin M. Pavelsky, Renato Prata de Moraes Frasson, Michael Turmon, Cédric H. David, Elizabeth H. Altenau, Nikki Tebaldi, Kevin Larnier, Jerome Monnier, Pierre Olivier Malaterre, Hind Oubanas, George H. Allen, Brian Astifan, Craig Brinkerhoff, Paul D. Bates, David Bjerklie, Stephen Coss, Robert Dudley, Luciana Fenoglio, Pierre-André Garambois, Augusto Getirana, Peirong Lin, Steven A. Margulis, Pascal Matte, J. Toby Minear, Aggrey Muhebwa, Ming Pan, Daniel Peters, Ryan Riggs, Md Safat Sikder, Travis Simmons, Cassie Stuurman, Jay Taneja, Angelica Tarpanelli, Kerstin Schulze, Mohammad J. Tourian, Jida Wang. 2023. A Framework for Estimating Global River Discharge From the Surface Water and Ocean Topography Satellite Mission, *Water Resources Research*, 59(4). [https://doi.org/10.1029/2021WR031614](https://doi.org/10.1029/2021WR*\n",
    "\n",
    "\n",
    "Key documents: https://podaac.jpl.nasa.gov/dataset/SWOT_L4_DAWG_SOS_DISCHARGE\n",
    "\n",
    "This notebook was written by Anthony Castronova (acastronova@cuahsi.org) and Irene Garousi-Nejad (igarousi@cuahsi.org), CUAHSI."
   ]
  },
  {
   "cell_type": "markdown",
   "id": "46549af4-f149-41d8-9fca-4a072f7a0898",
   "metadata": {},
   "source": [
    "## 1 Set up environment\n",
    "\n",
    "The Python cells below need to be run each time the notebook is executed. The set up the needed libraries to run here in CUAHSI's Jupyter Hub cloud. You’ll need valid **Earthdata** login credentials to access the data used in this notebook. If you don’t already have an account, you can create one at https://urs.earthdata.nasa.gov/. **Without these credentials, you won't be able to access the required datasets or run the notebook as intended.**"
   ]
  },
  {
   "cell_type": "code",
   "execution_count": null,
   "id": "e9fd9a7a-67bf-4df8-8f5c-9f3f37fa1636",
   "metadata": {
    "tags": []
   },
   "outputs": [],
   "source": [
    "!pip install -r requirements.txt"
   ]
  },
  {
   "cell_type": "code",
   "execution_count": null,
   "id": "73149c8b-9f7c-45ea-bd35-e6979753ecbc",
   "metadata": {
    "tags": []
   },
   "outputs": [],
   "source": [
    "import os\n",
    "import xarray\n",
    "import earthaccess\n",
    "import h5netcdf\n",
    "import hsclient\n",
    "import getpass\n",
    "import numpy as np\n",
    "import plotly.express as px\n",
    "import pandas as pd\n",
    "import matplotlib.pyplot as plt\n",
    "from datetime import datetime, timedelta\n",
    "\n",
    "# Prompt the user for Earthdata credentials interactively\n",
    "username = input(\"Enter your Earthdata username: \")\n",
    "password = getpass.getpass(\"Enter your Earthdata password (input hidden): \")\n",
    "\n",
    "# Set environment variables\n",
    "os.environ[\"EARTHDATA_USERNAME\"] = username\n",
    "os.environ[\"EARTHDATA_PASSWORD\"] = password\n",
    "\n",
    "# Login using the credentials\n",
    "auth = earthaccess.login(strategy=\"environment\")"
   ]
  },
  {
   "cell_type": "markdown",
   "id": "1cb6118f-0604-4b1c-aded-1884352a2519",
   "metadata": {},
   "source": [
    "## 2 Access observed discharge data from the SWOT SHCQ Repository\n",
    "\n",
    "\n",
    "The community-contributed SWOT SHCQ dataset is available through the following HydroShare collection: https://www.hydroshare.org/resource/38feeef698ca484b907b7b3eb84ad05b. "
   ]
  },
  {
   "cell_type": "markdown",
   "id": "245f1885-8a91-4b58-89ef-8de967f65f67",
   "metadata": {},
   "source": [
    "### Explore the HydroShare collection containing SWOT SHCQ datasets\n",
    "\n",
    "\n",
    "Each HydroShare record has a unique identifier at the end of its URL, which can be used in combination with the `hsclient` to programmatically access and work with the data."
   ]
  },
  {
   "cell_type": "code",
   "execution_count": null,
   "id": "611d9bba-7201-425f-9247-350754199151",
   "metadata": {
    "tags": []
   },
   "outputs": [],
   "source": [
    "# Define the HydroShare resource identifier\n",
    "guid = '38feeef698ca484b907b7b3eb84ad05b'\n",
    "\n",
    "# Connect to HydroShare using the hsclient Python library. Since we're not using credentials, we'll only have access to public data.\n",
    "hs = hsclient.HydroShare()\n",
    "\n",
    "# Load this resource into memory\n",
    "swot_collection = hs.resource(guid)"
   ]
  },
  {
   "cell_type": "markdown",
   "id": "34b2f043-a71e-4e85-b643-e44b2200b2aa",
   "metadata": {},
   "source": [
    "This resource happens to contain references to other resources that contain the data we want. Display all of these associated resources so we can choose which one we want to work with."
   ]
  },
  {
   "cell_type": "code",
   "execution_count": null,
   "id": "2e67d2e7-a740-4c29-b085-189ef8e6c95a",
   "metadata": {
    "tags": []
   },
   "outputs": [],
   "source": [
    "def print_metadata(resource, indent=''):\n",
    "    print(f\"{indent}{'Title:': <20} {resource.metadata.title}\")\n",
    "    print(f\"{indent}{'URL:': <20} {resource.metadata.url}\")\n",
    "    print(f\"{indent}{'Subject Keywords:': <20} {resource.metadata.subjects}\")\n",
    "    \n",
    "\n",
    "print('----------------')\n",
    "print('Resource Summary')\n",
    "print('----------------')\n",
    "swot_collection = hs.resource(guid)\n",
    "print_metadata(swot_collection)\n",
    "print('Related Resources')\n",
    "\n",
    "for relation in swot_collection.metadata.relations:\n",
    "    # get the resource metadata for each relation\n",
    "    # using a guid extracted from the relation metadata\n",
    "    try:\n",
    "        resource = hs.resource(relation.value.split('/')[-1])\n",
    "        print()\n",
    "        print_metadata(resource, indent='    ')\n",
    "    except Exception:\n",
    "        # we may encounter exceptions if we try to access resources\n",
    "        # that we do not have permissions for.\n",
    "        pass"
   ]
  },
  {
   "cell_type": "markdown",
   "id": "84d31cc0-4297-495c-8374-3966ee0d7f7b",
   "metadata": {},
   "source": [
    "### Select a community-contributed SWOT SHCQ dataset of interest\n",
    "\n",
    "Select a globally unique identifier (GUID) from the URLs provided above to download the corresponding streamflow data for analysis."
   ]
  },
  {
   "cell_type": "code",
   "execution_count": null,
   "id": "3a020d84-4f37-454a-b9d0-350426bee98f",
   "metadata": {
    "tags": []
   },
   "outputs": [],
   "source": [
    "# Define the identifier for a resource of interest\n",
    "res = hs.resource('11ddd3102dee413da781de9164bee16e')"
   ]
  },
  {
   "cell_type": "markdown",
   "id": "be8aca94-54de-4148-9237-36c8896b3d0a",
   "metadata": {},
   "source": [
    "Now that this resource is loaded into memory, we can can query the files that are associated with it. Once we've identified a file that we're interested in, we can download and begin working with it."
   ]
  },
  {
   "cell_type": "code",
   "execution_count": null,
   "id": "8377450f-e82b-4abb-92be-109b4db89fe3",
   "metadata": {
    "tags": []
   },
   "outputs": [],
   "source": [
    "# Preview the content files\n",
    "res.files()"
   ]
  },
  {
   "cell_type": "code",
   "execution_count": null,
   "id": "20929729-c410-402a-af31-ee3a6c2d7d1a",
   "metadata": {
    "tags": []
   },
   "outputs": [],
   "source": [
    "# Download data from the HydroShare resource to the working directory\n",
    "res.file_download('BFG_Rhine_SHCQ2_V3_2020-2024.csv')"
   ]
  },
  {
   "cell_type": "markdown",
   "id": "b8a1dbdb-8429-4a59-853d-b39cb8d092f3",
   "metadata": {},
   "source": [
    "Load this dataset using `pandas`. We'll need to do a little cleaning to fix datetime formats."
   ]
  },
  {
   "cell_type": "code",
   "execution_count": null,
   "id": "e66ac93a-3400-49ce-879f-6c01dc84d1f9",
   "metadata": {
    "tags": []
   },
   "outputs": [],
   "source": [
    "# Load the csv file\n",
    "df = pd.read_csv('BFG_Rhine_SHCQ2_V3_2020-2024.csv')\n",
    "\n",
    "# Set the index to the date listed in the dataset\n",
    "df['date'] = pd.to_datetime(df[\"Time_('dd-mm-yyyy')\"], errors='coerce')\n",
    "df.set_index(df.date, inplace=True)\n",
    "\n",
    "# Drop times that couldn't be converted\n",
    "df = df[~df.index.isnull()]\n",
    "\n",
    "# Pring the first few rows\n",
    "df.head()"
   ]
  },
  {
   "cell_type": "markdown",
   "id": "27e7636e-e1f3-490a-99ac-b01563161101",
   "metadata": {},
   "source": [
    "List the reach identifiers that exist in the data downloaded from HydroShare."
   ]
  },
  {
   "cell_type": "code",
   "execution_count": null,
   "id": "98378c5d-6989-4fbd-8cb2-9e1feaa9c811",
   "metadata": {
    "tags": []
   },
   "outputs": [],
   "source": [
    "df.Reach_ID.unique()"
   ]
  },
  {
   "cell_type": "markdown",
   "id": "8c66df84-2abb-473c-9916-62fbf14b91ff",
   "metadata": {},
   "source": [
    "Let's plot the observed discharge for one of these reaches."
   ]
  },
  {
   "cell_type": "code",
   "execution_count": null,
   "id": "3ba1eb88-95fb-4c51-b76f-65bc624d14b4",
   "metadata": {
    "tags": []
   },
   "outputs": [],
   "source": [
    "# Filter data for the selected reach\n",
    "reach_id = 23267000081\n",
    "df.sort_index(inplace=True)\n",
    "df_reach = df[df.Reach_ID == reach_id]\n",
    "\n",
    "# Create interactive time series plot\n",
    "fig = px.scatter(\n",
    "    df_reach,\n",
    "    x=df_reach.index,\n",
    "    y='Q_(m^3/s_daily)',\n",
    "    title=f\"Measured River Discharge @ {reach_id}\",\n",
    "    labels={\n",
    "        'Q_(m^3/s_daily)': 'Daily Discharge [cms]',\n",
    "        'index': 'Date'\n",
    "    }\n",
    ")\n",
    "\n",
    "# Customize layout\n",
    "fig.update_layout(\n",
    "    xaxis_title='Date',\n",
    "    yaxis_title='Daily Discharge [cms]'\n",
    ")\n",
    "\n",
    "fig.show()"
   ]
  },
  {
   "cell_type": "markdown",
   "id": "36ce5917-2ea5-4e12-abef-a2b714c6a4e7",
   "metadata": {},
   "source": [
    "## 3 Access modeled discharge data from the SoS project.\n",
    "\n",
    "\n",
    "Next, we will retrieve modeled discharge data from the Science on SWORD (SoS) project for the same reach of interest. Make sure you are already logged in to Earthdata, as required at the beginning of this notebook."
   ]
  },
  {
   "cell_type": "markdown",
   "id": "1638dbe5-721f-4594-b4fd-a1d2ee7108dd",
   "metadata": {},
   "source": [
    "### Search and locate SWOT SoS data granules\n",
    "\n",
    "We've prepared a complete Jupyter notebook that offers a detailed, hands-on walkthrough for accessing, exploring, and analyzing global river discharge data derived from SoS dataset. The notebook uses NASA's Earthdata earthaccess API and xarray to access and work with cloud-hosted data. For the full learning experience, see:\n",
    "Castronova, A. M., I. Garousi-Nejad (2025). Visualizing SWOT Discharge Data from the SWORD of Science (SoS) Dataset, HydroShare.\n",
    "http://www.hydroshare.org/resource/cdae2ab2435c4baa999c1dca091073ab\n",
    "\n",
    "Here, we briefly outline the key steps to keep the notebook more manageable and to place particular emphasis on accessing and comparing modeled discharge with validation data from the SWOT SHCQ."
   ]
  },
  {
   "cell_type": "code",
   "execution_count": null,
   "id": "f8087edb-b490-41e9-bb93-5f6cd378318e",
   "metadata": {
    "tags": []
   },
   "outputs": [],
   "source": [
    "# Search and locate granules\n",
    "granule_info = earthaccess.search_data(\n",
    "    short_name=\"SWOT_L4_DAWG_SOS_DISCHARGE\",\n",
    "    temporal=(\"2022-01-01\", \"2025-01-01\"),\n",
    ")\n",
    "\n",
    "# Open the NetCDF files that are stored for each granule.\n",
    "files = earthaccess.open(granule_info)\n",
    "\n"
   ]
  },
  {
   "cell_type": "markdown",
   "id": "d7d3fc2e-aee3-43be-95f8-912fd9c8cf0b",
   "metadata": {},
   "source": [
    "We will load two groups from the SWOT SoS dataset: `reaches`, which contains metadata about each SWORD reach, and `hivdi`, which holds modeled discharge estimates from the HiVDI algorithm. Both are needed for linking reach attributes to their corresponding discharge time series."
   ]
  },
  {
   "cell_type": "code",
   "execution_count": null,
   "id": "d3517475-ce1b-4c9b-9c1c-62ad8f9743cf",
   "metadata": {
    "tags": []
   },
   "outputs": [],
   "source": [
    "%%time\n",
    "\n",
    "print(f'Loading the \"Reaches\" group in file: {files[4].full_name}')\n",
    "ds_reaches = xarray.open_dataset(files[4],\n",
    "                                 group='reaches',\n",
    "                                 engine='h5netcdf',\n",
    "                                 decode_cf=False,    \n",
    "                                 decode_times=False, \n",
    "                                 decode_coords=False)\n",
    "ds_reaches"
   ]
  },
  {
   "cell_type": "code",
   "execution_count": null,
   "id": "a5053491-5477-4b1f-93bf-7646bcaffb64",
   "metadata": {
    "tags": []
   },
   "outputs": [],
   "source": [
    "%%time\n",
    "\n",
    "print(f'Loading the \"hivdi\" group in file: {files[4].full_name}')\n",
    "ds_hivdi = xarray.open_dataset(files[4],\n",
    "                           group='hivdi',\n",
    "                           engine='h5netcdf',\n",
    "                           decode_cf=False,    \n",
    "                           decode_times=False, \n",
    "                           decode_coords=False,\n",
    "                        )\n",
    "ds_hivdi"
   ]
  },
  {
   "cell_type": "markdown",
   "id": "d822e71e-5a9f-4b03-91fc-4c96f66a7f02",
   "metadata": {},
   "source": [
    "\n",
    "Combine these datasets using the common `num_reaches` coordinate. This is necessary for us to select hidvi estimates by reach name or identifier."
   ]
  },
  {
   "cell_type": "code",
   "execution_count": null,
   "id": "a37905c0-4901-4c3d-9847-192f888f7d38",
   "metadata": {
    "tags": []
   },
   "outputs": [],
   "source": [
    "ds_merged = xarray.combine_by_coords([ds_reaches, ds_hivdi])"
   ]
  },
  {
   "cell_type": "markdown",
   "id": "bf93eb2d-d927-416f-9f96-6d04ff3b74d3",
   "metadata": {},
   "source": [
    "### Extract modeled discharge for the reach of interest\n",
    "\n",
    "Isolate the data corresponding with the reach we have observations for."
   ]
  },
  {
   "cell_type": "code",
   "execution_count": null,
   "id": "7f6dabcf-d6cf-49a9-9cf4-953dbc5f62b2",
   "metadata": {
    "tags": []
   },
   "outputs": [],
   "source": [
    "# Use the mask to filter our data\n",
    "\n",
    "mask = (ds_merged.reach_id == reach_id).compute()\n",
    "ds_filtered = ds_merged.where(mask, drop=True)\n",
    "d = ds_filtered.to_dataframe().reset_index().explode(['time', 'Q'])"
   ]
  },
  {
   "cell_type": "markdown",
   "id": "e4cde2ad-4ef0-4ba9-ae25-5b64a426da7b",
   "metadata": {},
   "source": [
    "Convert our `time` column into datetime objects for pretty plotting. Since the temporal data in the SWOT SoS files is stored as seconds elapsed since January 1, 2000, these values are then converted into standard Python datetime objects. This conversion ensures that the discharge data can be correctly plotted on a familiar time scale."
   ]
  },
  {
   "cell_type": "code",
   "execution_count": null,
   "id": "8f8b64d0-004b-44c1-b4de-8410fa3beec8",
   "metadata": {
    "tags": []
   },
   "outputs": [],
   "source": [
    "reference_date = datetime(2000, 1, 1, 0, 0, 0)\n",
    "d['datetime'] = d['time'].apply(lambda x: reference_date + timedelta(seconds=x))\n",
    "d.set_index('datetime', inplace=True)"
   ]
  },
  {
   "cell_type": "markdown",
   "id": "8716ab09-d701-4fbe-a7ff-4fbb6aab68d5",
   "metadata": {},
   "source": [
    "## 4 Compare modeled and observed discharge\n",
    "\n",
    "Create a plot containing the observed discharge that was collected from HydroShare and the `hivdi` model results."
   ]
  },
  {
   "cell_type": "code",
   "execution_count": null,
   "id": "b93af8fe-42ef-4d77-b368-8ba8ec7323d7",
   "metadata": {
    "tags": []
   },
   "outputs": [],
   "source": [
    "import plotly.graph_objects as go\n",
    "\n",
    "# Create figure\n",
    "fig = go.Figure()\n",
    "\n",
    "# Plot modeled discharge (from SoS)\n",
    "fig.add_trace(go.Scatter(\n",
    "    x=d.index,\n",
    "    y=d.Q,\n",
    "    mode='lines',\n",
    "    name='SoS Modeled Discharge',\n",
    "    line=dict(color='blue')\n",
    "))\n",
    "\n",
    "# Plot observed discharge\n",
    "df.sort_index(inplace=True)\n",
    "df_obs = df[df.Reach_ID == reach_id]\n",
    "fig.add_trace(go.Scatter(\n",
    "    x=df_obs.index,\n",
    "    y=df_obs['Q_(m^3/s_daily)'],\n",
    "    mode='markers',\n",
    "    name='Observed Discharge',\n",
    "    marker=dict(color='orange', size=6)\n",
    "))\n",
    "\n",
    "# Customize layout\n",
    "fig.update_layout(\n",
    "    title=f\"Discharge Timeseries (HiVDI) for {ds_reaches.where(ds_reaches.reach_id == reach_id, drop=True).river_name.item()}, ID: {reach_id}\",\n",
    "    xaxis_title='Time',\n",
    "    yaxis_title='Discharge [CMS]',\n",
    "    legend=dict(x=0.01, y=0.99),\n",
    "    height=500\n",
    ")\n",
    "\n",
    "fig.show()\n"
   ]
  },
  {
   "cell_type": "code",
   "execution_count": null,
   "id": "beee88a7-e9f6-4604-8f33-5c184b221577",
   "metadata": {},
   "outputs": [],
   "source": []
  }
 ],
 "metadata": {
  "kernelspec": {
   "display_name": "Python [conda env:base] *",
   "language": "python",
   "name": "conda-base-py"
  },
  "language_info": {
   "codemirror_mode": {
    "name": "ipython",
    "version": 3
   },
   "file_extension": ".py",
   "mimetype": "text/x-python",
   "name": "python",
   "nbconvert_exporter": "python",
   "pygments_lexer": "ipython3",
   "version": "3.11.10"
  }
 },
 "nbformat": 4,
 "nbformat_minor": 5
}
