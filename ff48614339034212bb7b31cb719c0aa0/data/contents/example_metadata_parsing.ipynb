{
 "cells": [
  {
   "cell_type": "markdown",
   "metadata": {},
   "source": [
    "# Example notebook with metadata section"
   ]
  },
  {
   "cell_type": "code",
   "execution_count": null,
   "metadata": {},
   "outputs": [],
   "source": [
    "# Example metadata that can be parsed for display in the SWOTVIZ app\n",
    "META_TITLE = \"Example metadata tile\"\n",
    "META_SUBTITLE = \"This is a subtitle\"\n",
    "META_DESCRIPTION = \"This is a description of the notebook. This notebook will be synced to https://www.hydroshare.org/resource/ff48614339034212bb7b31cb719c0aa0/data/contents/example_metadata_parsing.ipynb\""
   ]
  }
 ],
 "metadata": {
  "kernelspec": {
   "display_name": "venv",
   "language": "python",
   "name": "python3"
  },
  "language_info": {
   "codemirror_mode": {
    "name": "ipython",
    "version": 3
   },
   "file_extension": ".py",
   "mimetype": "text/x-python",
   "name": "python",
   "nbconvert_exporter": "python",
   "pygments_lexer": "ipython3",
   "version": "3.12.3"
  }
 },
 "nbformat": 4,
 "nbformat_minor": 4
}
